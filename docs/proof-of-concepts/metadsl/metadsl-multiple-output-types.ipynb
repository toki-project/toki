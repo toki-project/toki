{
 "cells": [
  {
   "cell_type": "code",
   "execution_count": 1,
   "metadata": {},
   "outputs": [],
   "source": [
    "from __future__ import annotations\n",
    "from dataclasses import dataclass\n",
    "from typing import Union, List\n",
    "import metadsl\n",
    "import metadsl_rewrite\n",
    "from metadsl_core.strategies import register_core"
   ]
  },
  {
   "cell_type": "code",
   "execution_count": 2,
   "metadata": {},
   "outputs": [],
   "source": [
    "@dataclass\n",
    "class Expression(metadsl.Expression):\n",
    "    \"\"\"Base expression.\"\"\"\n",
    "\n",
    "\n",
    "class TableBase(Expression):\n",
    "    def __getitem__(\n",
    "        self, key: Union[str, List[str]]\n",
    "    ) -> Union[Projection, Column]:\n",
    "        \"\"\"Get item from Table.\"\"\"\n",
    "        if isinstance(key, str):\n",
    "            expr = self.column(key)\n",
    "        else:\n",
    "            expr = self.projection(key)\n",
    "        # expr.__qualname__ = 'Table'\n",
    "        # expr.__name__ = 'Table'\n",
    "        return expr\n",
    "        \n",
    "    @metadsl.expression\n",
    "    def projection(self, keys: list) -> Projection:\n",
    "        \"\"\"Create a projection expression.\"\"\"\n",
    "\n",
    "    @metadsl.expression\n",
    "    def column(self, key: str) -> Column:\n",
    "        \"\"\"Create a column expression.\"\"\"\n",
    "\n",
    "\n",
    "class Table(TableBase):\n",
    "    \"\"\"Table base expression class.\"\"\"\n",
    "\n",
    "\n",
    "class Projection(TableBase):\n",
    "    \"\"\"Projection expression.\"\"\"\n",
    "    \n",
    "\n",
    "class Column(TableBase):\n",
    "    \"\"\"Column expression\"\"\"\n",
    "\n"
   ]
  },
  {
   "cell_type": "code",
   "execution_count": 3,
   "metadata": {},
   "outputs": [],
   "source": [
    "@metadsl.expression\n",
    "def table(data: dict) -> Table:\n",
    "    \"\"\"Create a table expression.\"\"\"\n"
   ]
  },
  {
   "cell_type": "code",
   "execution_count": 4,
   "metadata": {},
   "outputs": [],
   "source": [
    "expr = table({'a': [1, 2, 3]})"
   ]
  },
  {
   "cell_type": "code",
   "execution_count": 5,
   "metadata": {},
   "outputs": [
    {
     "data": {
      "text/plain": [
       "__main__.Table"
      ]
     },
     "execution_count": 5,
     "metadata": {},
     "output_type": "execute_result"
    }
   ],
   "source": [
    "type(expr)"
   ]
  },
  {
   "cell_type": "code",
   "execution_count": 6,
   "metadata": {},
   "outputs": [
    {
     "data": {
      "text/plain": [
       "Column(function=Table.column, args=[Table(function=table, args=[{'a': [1, 2, 3]}], kwargs={}), 'a'], kwargs={})"
      ]
     },
     "execution_count": 6,
     "metadata": {},
     "output_type": "execute_result"
    }
   ],
   "source": [
    "expr['a']"
   ]
  },
  {
   "cell_type": "code",
   "execution_count": 7,
   "metadata": {},
   "outputs": [
    {
     "data": {
      "text/plain": [
       "Projection(function=Table.projection, args=[Table(function=table, args=[{'a': [1, 2, 3]}], kwargs={}), ['a']], kwargs={})"
      ]
     },
     "execution_count": 7,
     "metadata": {},
     "output_type": "execute_result"
    }
   ],
   "source": [
    "expr[['a']]"
   ]
  },
  {
   "cell_type": "code",
   "execution_count": 8,
   "metadata": {},
   "outputs": [
    {
     "data": {
      "text/plain": [
       "Column(function=Projection.column, args=[Projection(function=Table.projection, args=[Table(function=table, args=[{'a': [1, 2, 3]}], kwargs={}), ['a']], kwargs={}), 'a'], kwargs={})"
      ]
     },
     "execution_count": 8,
     "metadata": {},
     "output_type": "execute_result"
    }
   ],
   "source": [
    "expr[['a']]['a']"
   ]
  }
 ],
 "metadata": {
  "kernelspec": {
   "display_name": "Python 3",
   "language": "python",
   "name": "python3"
  },
  "language_info": {
   "codemirror_mode": {
    "name": "ipython",
    "version": 3
   },
   "file_extension": ".py",
   "mimetype": "text/x-python",
   "name": "python",
   "nbconvert_exporter": "python",
   "pygments_lexer": "ipython3",
   "version": "3.8.3"
  }
 },
 "nbformat": 4,
 "nbformat_minor": 4
}
