{
 "cells": [
  {
   "cell_type": "code",
   "execution_count": 7,
   "metadata": {},
   "outputs": [
    {
     "ename": "Error",
     "evalue": "Unexpected end of JSON",
     "output_type": "error",
     "traceback": [
      "Unexpected end of JSON"
     ]
    }
   ],
   "source": [
    "extern crate async_std;\n",
    "extern crate iref;\n",
    "extern crate json_ld;\n",
    "\n",
    "use async_std::task;\n",
    "use iref::IriBuf;\n",
    "use json_ld::{JsonContext, NoLoader, Document, Object, Reference};\n",
    "\n",
    "fn main() {\n",
    "    // The JSON-LD document to expand.\n",
    "    let doc = json::parse(r#\"\n",
    "        {\n",
    "            \"@context\": {\n",
    "                \"name\": \"http://xmlns.com/foaf/0.1/name\"\n",
    "            },\n",
    "            \"@id\": \"https://www.rust-lang.org\",\n",
    "            \"name\": \"Rust Programming Language\"\n",
    "        }\n",
    "    \"#).unwrap();\n",
    "\n",
    "    // Create the initial context.\n",
    "    let context: JsonContext = JsonContext::new(None);\n",
    "\n",
    "    // Expansion.\n",
    "    let expanded_doc = task::block_on(doc.expand(&context, &mut NoLoader)).unwrap();\n",
    "\n",
    "    // Reference to the `name` property.\n",
    "    let name_property = Reference::Id(IriBuf::new(\"http://xmlns.com/foaf/0.1/name\").unwrap());\n",
    "\n",
    "    // Iterate through the expanded objects.\n",
    "    for object in expanded_doc {\n",
    "        if let Object::Node(node) = object.as_ref() {\n",
    "            println!(\"node: {}\", node.id().unwrap()); // print the `@id`\n",
    "            for name in node.get(&name_property) { // get the names.\n",
    "                println!(\"name: {}\", name.as_str().unwrap());\n",
    "            }\n",
    "        }\n",
    "    }\n",
    "}"
   ]
  }
 ],
 "metadata": {
  "kernelspec": {
   "display_name": "Rust",
   "language": "rust",
   "name": "rust"
  },
  "language_info": {
   "codemirror_mode": "rust",
   "file_extension": ".rs",
   "mimetype": "text/rust",
   "name": "Rust",
   "pygment_lexer": "rust",
   "version": ""
  }
 },
 "nbformat": 4,
 "nbformat_minor": 4
}
